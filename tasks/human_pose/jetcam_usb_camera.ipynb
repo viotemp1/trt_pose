{
 "cells": [
  {
   "cell_type": "markdown",
   "metadata": {},
   "source": [
    "# Import"
   ]
  },
  {
   "cell_type": "code",
   "execution_count": 1,
   "metadata": {},
   "outputs": [],
   "source": [
    "from jetcam.usb_camera import USBCamera\n",
    "import ipywidgets, time, cv2, traitlets, sys, argparse\n",
    "from IPython.display import display, clear_output\n",
    "import traitlets\n",
    "import threading\n",
    "import numpy as np\n",
    "import atexit\n",
    "import PIL.Image"
   ]
  },
  {
   "cell_type": "markdown",
   "metadata": {},
   "source": [
    "# Variables"
   ]
  },
  {
   "cell_type": "code",
   "execution_count": 2,
   "metadata": {},
   "outputs": [],
   "source": [
    "display_as = \"web\" # ipywidgets opencv web\n",
    "camera_method = [\"traitlets\"] # observe traitlets\n",
    "\n",
    "DISPLAY_WIDTH = 640\n",
    "DISPLAY_HEIGHT = 480\n",
    "CAMERA_WIDTH = 640\n",
    "CAMERA_HEIGHT = 480\n",
    "\n",
    "fps_str_display = None"
   ]
  },
  {
   "cell_type": "code",
   "execution_count": 3,
   "metadata": {},
   "outputs": [
    {
     "name": "stdout",
     "output_type": "stream",
     "text": [
      "in_notebook True\n"
     ]
    }
   ],
   "source": [
    "def in_notebook():\n",
    "    result = False\n",
    "    try:\n",
    "        ipython_config = get_ipython().config\n",
    "    #     print(ipython_config)\n",
    "        if \"IPKernelApp\" in ipython_config:\n",
    "    #         print(ipython_config[\"IPKernelApp\"][\"connection_file\"].find(\"jupyter\"))\n",
    "            if ipython_config[\"IPKernelApp\"][\"connection_file\"].find(\"jupyter\") > -1:\n",
    "                result = True\n",
    "        return result\n",
    "    except:\n",
    "        pass\n",
    "print(\"in_notebook\", in_notebook())"
   ]
  },
  {
   "cell_type": "markdown",
   "metadata": {},
   "source": [
    "# Args"
   ]
  },
  {
   "cell_type": "code",
   "execution_count": 4,
   "metadata": {},
   "outputs": [],
   "source": [
    "# print(sys.argv)\n",
    "if not in_notebook():\n",
    "    parser = argparse.ArgumentParser()\n",
    "    parser.add_argument('--camera_method', default='observe', choices=['observe', 'traitlets'],  help='camera_method: traitlets / observe')\n",
    "    parser.add_argument('--display_as', default='opencv', choices=[\"ipywidgets\", \"opencv\", \"web\"],  help='display_as: ipywidgets opencv web')\n",
    "    args = parser.parse_args()\n",
    "    camera_method = [args.camera_method]\n",
    "    display_as = args.display_as\n"
   ]
  },
  {
   "cell_type": "markdown",
   "metadata": {},
   "source": [
    "# Setup Camera"
   ]
  },
  {
   "cell_type": "code",
   "execution_count": 5,
   "metadata": {},
   "outputs": [],
   "source": [
    "camera = USBCamera(width=DISPLAY_WIDTH, height=DISPLAY_HEIGHT, capture_width=CAMERA_WIDTH, \n",
    "                   capture_height=CAMERA_HEIGHT, capture_device=0)"
   ]
  },
  {
   "cell_type": "markdown",
   "metadata": {},
   "source": [
    "## Read one frame"
   ]
  },
  {
   "cell_type": "code",
   "execution_count": 6,
   "metadata": {},
   "outputs": [
    {
     "name": "stdout",
     "output_type": "stream",
     "text": [
      "image.shape (480, 640, 3)\n",
      "camera.value.shape (480, 640, 3)\n"
     ]
    }
   ],
   "source": [
    "image = camera.read()\n",
    "print(\"image.shape\", image.shape)\n",
    "print(\"camera.value.shape\", camera.value.shape)"
   ]
  },
  {
   "cell_type": "markdown",
   "metadata": {},
   "source": [
    "# Utils"
   ]
  },
  {
   "cell_type": "code",
   "execution_count": 7,
   "metadata": {},
   "outputs": [],
   "source": [
    "class Frames:\n",
    "    def __init__(self):\n",
    "        self.frames_count = 0\n",
    "        self._time = time.time()\n",
    "        self._old_fps = 0\n",
    "    @property\n",
    "    def fps(self):\n",
    "        if int(time.time())%5 == 0 and self.frames_count > 140:\n",
    "            result = self.frames_count/(time.time() - self._time)\n",
    "#             print(self.frames_count, time.time() - self._time, result)\n",
    "            self._old_fps = result\n",
    "            self._time = time.time()\n",
    "            self.frames_count = 0\n",
    "        else:\n",
    "            result = self._old_fps\n",
    "        return result\n",
    "    @property\n",
    "    def fps_str(self):\n",
    "        if self.fps > 0:\n",
    "            return f\"{self.fps:0.2f}\"\n",
    "        else: \n",
    "            return None\n",
    "        \n",
    "    def increment_frame(self):\n",
    "        self.frames_count += 1\n",
    "        if self.fps > 0:\n",
    "            return f\"{self.fps:0.2f}\"\n",
    "        else: \n",
    "            return None\n",
    "        \n",
    "    def reset_frames_count(self):\n",
    "        self.frames_count = 0\n",
    "    \n",
    "    def fps_update(self):\n",
    "        self.frames_count += 1\n",
    "        fps_str = self.fps_str\n",
    "        return self.fps_str\n",
    "    \n",
    "\n",
    "frames_camera = Frames()\n",
    "frames_display = Frames()\n",
    "\n",
    "if display_as == \"ipywidgets\":\n",
    "    image_widget = ipywidgets.Image(format='jpeg')\n",
    "    fps_widget = ipywidgets.Text(\"0\")\n",
    "    \n",
    "def bgr8_to_jpeg(value, frames=frames_camera):\n",
    "    fps_str = frames.increment_frame()\n",
    "    if display_as == \"ipywidgets\":\n",
    "        if fps_str is not None:\n",
    "            fps_widget.value = fps_str\n",
    "    return bytes(cv2.imencode('.jpg', value)[1])\n",
    "\n",
    "if display_as == \"ipywidgets\":\n",
    "    image_widget.value = bgr8_to_jpeg(image, frames_camera)\n",
    "    display(image_widget)\n",
    "    display(fps_widget)\n",
    "    clear_output()"
   ]
  },
  {
   "cell_type": "markdown",
   "metadata": {},
   "source": [
    "# Start Camera"
   ]
  },
  {
   "cell_type": "code",
   "execution_count": 8,
   "metadata": {},
   "outputs": [],
   "source": [
    "camera.running = True"
   ]
  },
  {
   "cell_type": "markdown",
   "metadata": {},
   "source": [
    "# Observe Mode"
   ]
  },
  {
   "cell_type": "code",
   "execution_count": 9,
   "metadata": {},
   "outputs": [],
   "source": [
    "if \"observe\" in camera_method:\n",
    "    def update_image(change):\n",
    "        global fps_str_display\n",
    "        image = change['new']\n",
    "        if display_as == \"ipywidgets\":\n",
    "            image_widget.value = bgr8_to_jpeg(image, frames_camera)\n",
    "        elif display_as == \"opencv\":\n",
    "            fps_str = frames_camera.fps_update()\n",
    "            if fps_str is not None:\n",
    "                fps_str_display = fps_str\n",
    "            label_width, label_height=cv2.getTextSize(fps_str_display, cv2.FONT_HERSHEY_PLAIN, 1.5, 2)[0]\n",
    "            cv2.rectangle(image, (10, 0), (10 + label_width, 10 + label_height), (0,0,0), -1)\n",
    "            cv2.putText(image, fps_str_display, (10,20), cv2.FONT_HERSHEY_PLAIN, 1.5, (255,32,32), 2, cv2.LINE_AA)\n",
    "            \n",
    "            fps_str = frames_display.fps_update()\n",
    "            if fps_str is not None:\n",
    "                fps_str_display = fps_str\n",
    "                \n",
    "            label_width, label_height=cv2.getTextSize(fps_str_display, cv2.FONT_HERSHEY_PLAIN, 1.5, 2)[0]\n",
    "            cv2.rectangle(image, (CAMERA_WIDTH-label_width-10, 0), (CAMERA_WIDTH-10, 10 + label_height), (0,0,0), -1)\n",
    "            cv2.putText(image, fps_str_display, (CAMERA_WIDTH-label_width-10, 20), cv2.FONT_HERSHEY_PLAIN, 1.5, (255,32,32), 2, cv2.LINE_AA)\n",
    "\n",
    "            cv2.imshow(\"Video Frame\", image)\n",
    "            key=cv2.waitKey(1)\n",
    "            if key == 27: # Check for ESC key\n",
    "                cv2.destroyAllWindows()\n",
    "\n",
    "\n",
    "    camera.observe(update_image, names='value')\n",
    "\n",
    "    if display_as == \"ipywidgets\":\n",
    "        display(fps_widget)\n",
    "        display(image_widget)\n",
    "\n",
    "    input(\"camera.unobserve\")\n",
    "\n",
    "    if display_as == \"ipywidgets\":\n",
    "        clear_output()\n",
    "    elif display_as == \"opencv\":\n",
    "        cv2.destroyAllWindows()\n",
    "    \n",
    "    camera.unobserve(update_image, names='value')\n",
    "    camera.running = False\n"
   ]
  },
  {
   "cell_type": "markdown",
   "metadata": {},
   "source": [
    "# Traitlets Mode"
   ]
  },
  {
   "cell_type": "markdown",
   "metadata": {},
   "source": [
    "## Utils1"
   ]
  },
  {
   "cell_type": "code",
   "execution_count": 10,
   "metadata": {},
   "outputs": [],
   "source": [
    "class cv2_display(traitlets.HasTraits):\n",
    "\n",
    "    value = traitlets.Any()\n",
    "    running = traitlets.Bool(default_value=False)\n",
    "    \n",
    "    def __init__(self, windowName=\"\", frames_camera=None, frames_display=None, *args, **kwargs):\n",
    "        super(cv2_display, self).__init__(*args, **kwargs)\n",
    "        self._running = False\n",
    "        self._fps_str_display = \"\"\n",
    "        self._fps_str_camera = \"\"\n",
    "        self._frames_camera = frames_camera\n",
    "        self._frames_display = frames_display\n",
    "        self._windowName = windowName\n",
    "#         cv2.namedWindow(self._windowName, cv2.WINDOW_NORMAL)\n",
    "#         cv2.resizeWindow(self._windowName,DISPLAY_WIDTH,DISPLAY_HEIGHT)\n",
    "#         cv2.moveWindow(self._windowName,0,0)\n",
    "#         cv2.setWindowTitle(self._windowName,self._windowName)\n",
    "        \n",
    "        atexit.register(cv2.destroyAllWindows)\n",
    "        \n",
    "    def _display_frames(self):\n",
    "        while True:\n",
    "            if not self._running: #  or cv2.getWindowProperty(self._windowName, 0) < 0\n",
    "                break;\n",
    "            if self.value is not None:\n",
    "                label_width, label_height=cv2.getTextSize(self._fps_str_camera, cv2.FONT_HERSHEY_PLAIN, 1.5, 2)[0]\n",
    "                cv2.rectangle(self.value, (10, 0), (10 + label_width, 10 + label_height), (0,0,0), -1)\n",
    "                cv2.putText(self.value, self._fps_str_camera, (10,20), cv2.FONT_HERSHEY_PLAIN, 1.5, (255,32,32), 2, cv2.LINE_AA)\n",
    "\n",
    "                fps_str = self._frames_display.fps_update()\n",
    "                if fps_str is not None:\n",
    "                    self._fps_str_display = fps_str\n",
    "                \n",
    "                label_width, label_height=cv2.getTextSize(self._fps_str_display, cv2.FONT_HERSHEY_PLAIN, 1.5, 2)[0]\n",
    "                cv2.rectangle(self.value, (CAMERA_WIDTH-label_width-10, 0), (CAMERA_WIDTH-10, 10 + label_height), (0,0,0), -1)\n",
    "                cv2.putText(self.value, self._fps_str_display, (CAMERA_WIDTH-label_width-11, 20), cv2.FONT_HERSHEY_PLAIN, 1.5, (255,32,32), 2, cv2.LINE_AA)\n",
    "\n",
    "                cv2.imshow(self._windowName, self.value)\n",
    "                key=cv2.waitKey(10)\n",
    "                if key == 27: # Check for ESC key\n",
    "                    cv2.destroyAllWindows()\n",
    "                    self._running = False\n",
    "                    break\n",
    "            \n",
    "    @traitlets.observe('value')\n",
    "    def _on_value(self, change):\n",
    "        fps_str = self._frames_camera.fps_update()\n",
    "        if fps_str is not None:\n",
    "            self._fps_str_camera = fps_str\n",
    "            \n",
    "    @traitlets.observe('running')\n",
    "    def _on_running(self, change):\n",
    "        if change['new'] and not change['old']:\n",
    "            # transition from not running -> running\n",
    "            self._running = True\n",
    "        elif change['old'] and not change['new']:\n",
    "            # transition from running -> not running\n",
    "            self._running = False\n",
    "#         print(\"_on_running\", self._running)\n",
    "        if self._running:\n",
    "            self.thread = threading.Thread(target=self._display_frames)\n",
    "            self.thread.daemon = True\n",
    "            self.thread.start()\n",
    "        else:\n",
    "            self.thread.join()\n",
    "            \n",
    "def my_transform(frame, edgeThreshold=40):\n",
    "    gray=cv2.cvtColor(frame, cv2.COLOR_BGR2GRAY)\n",
    "    blur=cv2.GaussianBlur(gray,(7,7),1.5)\n",
    "    edges=cv2.Canny(blur,0,edgeThreshold)\n",
    "    edges = cv2.cvtColor(edges, cv2.COLOR_GRAY2BGR);\n",
    "#     frame = cv2.copyTo(frame, edges)\n",
    "#     frame += edges\n",
    "    frame = np.bitwise_or(frame, edges)\n",
    "#     frame = edges.copy()\n",
    "    return frame"
   ]
  },
  {
   "cell_type": "code",
   "execution_count": 11,
   "metadata": {},
   "outputs": [],
   "source": [
    "if \"traitlets\" in camera_method:\n",
    "    if display_as == \"ipywidgets\":\n",
    "        display(fps_widget)\n",
    "\n",
    "        display(image_widget)\n",
    "        camera_link = traitlets.dlink((camera, 'value'), (image_widget, 'value'), transform=bgr8_to_jpeg)\n",
    "        camera_link.link()\n",
    "    elif display_as == \"opencv\":\n",
    "        image_widget = cv2_display(windowName=\"my_Demo\", frames_camera=frames_camera, frames_display=frames_display)\n",
    "        image_widget.running = True\n",
    "        camera_link = traitlets.dlink((camera, 'value'), (image_widget, 'value'), transform=lambda x: my_transform(x, edgeThreshold=40))\n",
    "        camera_link.link()\n",
    "        \n",
    "    if display_as in [\"ipywidgets\", \"opencv\"]:\n",
    "        input(\"camera_link.unlink\")\n",
    "        try:\n",
    "            if camera_link is not None: camera_link.unlink() \n",
    "        except:\n",
    "            pass"
   ]
  },
  {
   "cell_type": "markdown",
   "metadata": {},
   "source": [
    "# Web Mode"
   ]
  },
  {
   "cell_type": "markdown",
   "metadata": {},
   "source": [
    "## Utils2"
   ]
  },
  {
   "cell_type": "code",
   "execution_count": 12,
   "metadata": {},
   "outputs": [],
   "source": [
    "class cv2_camera2display(traitlets.HasTraits):\n",
    "\n",
    "    value = traitlets.Any()\n",
    "    running = traitlets.Bool(default_value=False)\n",
    "    \n",
    "    def __init__(self, frames_camera=None, frames_display=None, *args, **kwargs):\n",
    "        super(cv2_camera2display, self).__init__(*args, **kwargs)\n",
    "        self._running = False\n",
    "        self._fps_str_display = \"\"\n",
    "        self._fps_str_camera = \"\"\n",
    "        self._frames_camera = frames_camera\n",
    "        self._frames_display = frames_display\n",
    "        self.encoded_value = np.zeros((CAMERA_WIDTH, CAMERA_HEIGHT, 3), dtype = \"uint8\")\n",
    "\n",
    "    def _display_frames(self):\n",
    "        while True:\n",
    "            if not self._running: #  or cv2.getWindowProperty(self._windowName, 0) < 0\n",
    "                break;\n",
    "            if self.value is not None:\n",
    "                label_width, label_height=cv2.getTextSize(self._fps_str_camera, cv2.FONT_HERSHEY_PLAIN, 1.5, 2)[0]\n",
    "                cv2.rectangle(self.value, (10, 0), (10 + label_width, 10 + label_height), (0,0,0), -1)\n",
    "                cv2.putText(self.value, self._fps_str_camera, (10,20), cv2.FONT_HERSHEY_PLAIN, 1.5, (255,32,32), 2, cv2.LINE_AA)\n",
    "\n",
    "                fps_str = self._frames_display.fps_update()\n",
    "                if fps_str is not None:\n",
    "                    self._fps_str_display = fps_str\n",
    "                \n",
    "                label_width, label_height=cv2.getTextSize(self._fps_str_display, cv2.FONT_HERSHEY_PLAIN, 1.5, 2)[0]\n",
    "                cv2.rectangle(self.value, (CAMERA_WIDTH-label_width-10, 0), (CAMERA_WIDTH-10, 10 + label_height), (0,0,0), -1)\n",
    "                cv2.putText(self.value, self._fps_str_display, (CAMERA_WIDTH-label_width-11, 20), cv2.FONT_HERSHEY_PLAIN, 1.5, (255,32,32), 2, cv2.LINE_AA)\n",
    "                \n",
    "                encode_param = [int(cv2.IMWRITE_JPEG_QUALITY), 70] \n",
    "                _, self.encoded_value = cv2.imencode(\".jpg\", self.value.copy(), encode_param)\n",
    "                \n",
    "                if self._frames_display.fps > 10:\n",
    "                    time.sleep(0.05)\n",
    "\n",
    "    @traitlets.observe('value')\n",
    "    def _on_value(self, change):\n",
    "        fps_str = self._frames_camera.fps_update()\n",
    "        if fps_str is not None:\n",
    "            self._fps_str_camera = fps_str\n",
    "            \n",
    "    @traitlets.observe('running')\n",
    "    def _on_running(self, change):\n",
    "        if change['new'] and not change['old']:\n",
    "            # transition from not running -> running\n",
    "            self._running = True\n",
    "        elif change['old'] and not change['new']:\n",
    "            # transition from running -> not running\n",
    "            self._running = False\n",
    "#         print(\"_on_running\", self._running)\n",
    "        if self._running:\n",
    "            self.thread = threading.Thread(target=self._display_frames)\n",
    "            self.thread.daemon = True\n",
    "            self.thread.start()\n",
    "        else:\n",
    "            self.thread.join()\n",
    "\n",
    "def my_transform(frame):\n",
    "    \n",
    "    return frame"
   ]
  },
  {
   "cell_type": "code",
   "execution_count": 13,
   "metadata": {},
   "outputs": [
    {
     "name": "stdout",
     "output_type": "stream",
     "text": [
      "Please connect to http://10.0.0.212:5000/video_feed to see the video feed.\n",
      " * Serving Flask app \"__main__\" (lazy loading)\n",
      " * Environment: production\n",
      "\u001b[31m   WARNING: This is a development server. Do not use it in a production deployment.\u001b[0m\n",
      "\u001b[2m   Use a production WSGI server instead.\u001b[0m\n",
      " * Debug mode: off\n"
     ]
    },
    {
     "name": "stderr",
     "output_type": "stream",
     "text": [
      " * Running on http://0.0.0.0:5000/ (Press CTRL+C to quit)\n",
      "10.0.0.217 - - [25/Mar/2021 16:01:45] \"\u001b[37mGET /video_feed HTTP/1.1\u001b[0m\" 200 -\n"
     ]
    }
   ],
   "source": [
    "if display_as == \"web\":\n",
    "    from flask import Response\n",
    "    from flask import Flask\n",
    "    from flask import render_template\n",
    "    import socket\n",
    "    \n",
    "    myip = [l for l in (\n",
    "    [ip for ip in socket.gethostbyname_ex(socket.gethostname())[2] if not ip.startswith(\"127.\")][:1], [\n",
    "        [(s.connect(('8.8.8.8', 53)), s.getsockname()[0], s.close()) for s in\n",
    "         [socket.socket(socket.AF_INET, socket.SOCK_DGRAM)]][0][1]]) if l][0][0]\n",
    "    \n",
    "    print(f\"Please connect to http://{myip}:5000/video_feed to see the video feed.\")\n",
    "    \n",
    "    image_widget = cv2_camera2display(frames_camera=frames_camera, frames_display=frames_display)\n",
    "    image_widget.running = True\n",
    "    camera_link = traitlets.dlink((camera, 'value'), (image_widget, 'value'), transform=lambda x: my_transform(x))\n",
    "    camera_link.link()\n",
    "    \n",
    "    app = Flask(__name__)\n",
    "    \n",
    "    def generate_camera_stream():\n",
    "        while True:\n",
    "            if frames_display.fps > 10:\n",
    "                time.sleep(0.05)\n",
    "            yield (b'--frame\\r\\n' b'Content-Type: image/jpeg\\r\\n\\r\\n' +\n",
    "                   bytearray(image_widget.encoded_value) + b'\\r\\n')\n",
    "    \n",
    "    @app.route(\"/\")\n",
    "    def index():\n",
    "        # return the rendered template\n",
    "        return render_template(\"index.html\")\n",
    "\n",
    "    @app.route(\"/video_feed\")\n",
    "    def video_feed():\n",
    "        # return the response generated along with the specific media\n",
    "        # type (mime type)\n",
    "        return Response(generate_camera_stream(),\n",
    "            mimetype = \"multipart/x-mixed-replace; boundary=frame\")\n",
    "    \n",
    "    app.run(host='0.0.0.0')\n"
   ]
  },
  {
   "cell_type": "markdown",
   "metadata": {},
   "source": [
    "# Finish"
   ]
  },
  {
   "cell_type": "code",
   "execution_count": 14,
   "metadata": {},
   "outputs": [],
   "source": [
    "try:\n",
    "    if camera is not None: camera.running = False\n",
    "    camera.close()\n",
    "    del camera\n",
    "    if image_widget is not None: image_widget.running = False\n",
    "    if app is not None: app.do_teardown_appcontext()\n",
    "except:\n",
    "    pass"
   ]
  },
  {
   "cell_type": "code",
   "execution_count": null,
   "metadata": {},
   "outputs": [],
   "source": []
  }
 ],
 "metadata": {
  "kernelspec": {
   "display_name": "Python 3",
   "language": "python",
   "name": "python3"
  },
  "language_info": {
   "codemirror_mode": {
    "name": "ipython",
    "version": 3
   },
   "file_extension": ".py",
   "mimetype": "text/x-python",
   "name": "python",
   "nbconvert_exporter": "python",
   "pygments_lexer": "ipython3",
   "version": "3.6.9"
  }
 },
 "nbformat": 4,
 "nbformat_minor": 4
}
